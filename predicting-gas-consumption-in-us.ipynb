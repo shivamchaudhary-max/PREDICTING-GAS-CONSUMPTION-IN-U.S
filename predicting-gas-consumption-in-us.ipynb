{
 "cells": [
  {
   "cell_type": "code",
   "execution_count": 1,
   "id": "9bc672c1",
   "metadata": {
    "execution": {
     "iopub.execute_input": "2022-01-21T07:30:39.600907Z",
     "iopub.status.busy": "2022-01-21T07:30:39.599616Z",
     "iopub.status.idle": "2022-01-21T07:30:39.609182Z",
     "shell.execute_reply": "2022-01-21T07:30:39.608391Z",
     "shell.execute_reply.started": "2022-01-21T07:26:44.765134Z"
    },
    "papermill": {
     "duration": 0.021846,
     "end_time": "2022-01-21T07:30:39.609353",
     "exception": false,
     "start_time": "2022-01-21T07:30:39.587507",
     "status": "completed"
    },
    "tags": []
   },
   "outputs": [],
   "source": [
    "import pandas as pd"
   ]
  },
  {
   "cell_type": "code",
   "execution_count": 2,
   "id": "40d2a66b",
   "metadata": {
    "execution": {
     "iopub.execute_input": "2022-01-21T07:30:39.632492Z",
     "iopub.status.busy": "2022-01-21T07:30:39.631707Z",
     "iopub.status.idle": "2022-01-21T07:30:39.647606Z",
     "shell.execute_reply": "2022-01-21T07:30:39.648286Z",
     "shell.execute_reply.started": "2022-01-21T07:27:53.329155Z"
    },
    "papermill": {
     "duration": 0.029427,
     "end_time": "2022-01-21T07:30:39.648492",
     "exception": false,
     "start_time": "2022-01-21T07:30:39.619065",
     "status": "completed"
    },
    "tags": []
   },
   "outputs": [],
   "source": [
    "petrol=pd.read_csv('../input/petrol-consumption/petrol_consumption.csv')"
   ]
  },
  {
   "cell_type": "code",
   "execution_count": 3,
   "id": "d8cc1b34",
   "metadata": {
    "execution": {
     "iopub.execute_input": "2022-01-21T07:30:39.667912Z",
     "iopub.status.busy": "2022-01-21T07:30:39.667270Z",
     "iopub.status.idle": "2022-01-21T07:30:39.685353Z",
     "shell.execute_reply": "2022-01-21T07:30:39.685845Z",
     "shell.execute_reply.started": "2022-01-21T07:28:06.211190Z"
    },
    "papermill": {
     "duration": 0.029465,
     "end_time": "2022-01-21T07:30:39.686040",
     "exception": false,
     "start_time": "2022-01-21T07:30:39.656575",
     "status": "completed"
    },
    "tags": []
   },
   "outputs": [
    {
     "data": {
      "text/html": [
       "<div>\n",
       "<style scoped>\n",
       "    .dataframe tbody tr th:only-of-type {\n",
       "        vertical-align: middle;\n",
       "    }\n",
       "\n",
       "    .dataframe tbody tr th {\n",
       "        vertical-align: top;\n",
       "    }\n",
       "\n",
       "    .dataframe thead th {\n",
       "        text-align: right;\n",
       "    }\n",
       "</style>\n",
       "<table border=\"1\" class=\"dataframe\">\n",
       "  <thead>\n",
       "    <tr style=\"text-align: right;\">\n",
       "      <th></th>\n",
       "      <th>Petrol_tax</th>\n",
       "      <th>Average_income</th>\n",
       "      <th>Paved_Highways</th>\n",
       "      <th>Population_Driver_licence(%)</th>\n",
       "      <th>Petrol_Consumption</th>\n",
       "    </tr>\n",
       "  </thead>\n",
       "  <tbody>\n",
       "    <tr>\n",
       "      <th>0</th>\n",
       "      <td>9.0</td>\n",
       "      <td>3571</td>\n",
       "      <td>1976</td>\n",
       "      <td>0.525</td>\n",
       "      <td>541</td>\n",
       "    </tr>\n",
       "    <tr>\n",
       "      <th>1</th>\n",
       "      <td>9.0</td>\n",
       "      <td>4092</td>\n",
       "      <td>1250</td>\n",
       "      <td>0.572</td>\n",
       "      <td>524</td>\n",
       "    </tr>\n",
       "    <tr>\n",
       "      <th>2</th>\n",
       "      <td>9.0</td>\n",
       "      <td>3865</td>\n",
       "      <td>1586</td>\n",
       "      <td>0.580</td>\n",
       "      <td>561</td>\n",
       "    </tr>\n",
       "    <tr>\n",
       "      <th>3</th>\n",
       "      <td>7.5</td>\n",
       "      <td>4870</td>\n",
       "      <td>2351</td>\n",
       "      <td>0.529</td>\n",
       "      <td>414</td>\n",
       "    </tr>\n",
       "    <tr>\n",
       "      <th>4</th>\n",
       "      <td>8.0</td>\n",
       "      <td>4399</td>\n",
       "      <td>431</td>\n",
       "      <td>0.544</td>\n",
       "      <td>410</td>\n",
       "    </tr>\n",
       "  </tbody>\n",
       "</table>\n",
       "</div>"
      ],
      "text/plain": [
       "   Petrol_tax  Average_income  Paved_Highways  Population_Driver_licence(%)  \\\n",
       "0         9.0            3571            1976                         0.525   \n",
       "1         9.0            4092            1250                         0.572   \n",
       "2         9.0            3865            1586                         0.580   \n",
       "3         7.5            4870            2351                         0.529   \n",
       "4         8.0            4399             431                         0.544   \n",
       "\n",
       "   Petrol_Consumption  \n",
       "0                 541  \n",
       "1                 524  \n",
       "2                 561  \n",
       "3                 414  \n",
       "4                 410  "
      ]
     },
     "execution_count": 3,
     "metadata": {},
     "output_type": "execute_result"
    }
   ],
   "source": [
    "petrol.head()"
   ]
  },
  {
   "cell_type": "code",
   "execution_count": 4,
   "id": "a3de3fa1",
   "metadata": {
    "execution": {
     "iopub.execute_input": "2022-01-21T07:30:39.706010Z",
     "iopub.status.busy": "2022-01-21T07:30:39.705391Z",
     "iopub.status.idle": "2022-01-21T07:30:39.721571Z",
     "shell.execute_reply": "2022-01-21T07:30:39.722585Z",
     "shell.execute_reply.started": "2022-01-21T07:29:20.946880Z"
    },
    "papermill": {
     "duration": 0.028303,
     "end_time": "2022-01-21T07:30:39.722886",
     "exception": false,
     "start_time": "2022-01-21T07:30:39.694583",
     "status": "completed"
    },
    "tags": []
   },
   "outputs": [
    {
     "name": "stdout",
     "output_type": "stream",
     "text": [
      "    Petrol_tax  Average_income  Paved_Highways  Population_Driver_licence(%)\n",
      "0         9.00            3571            1976                         0.525\n",
      "1         9.00            4092            1250                         0.572\n",
      "2         9.00            3865            1586                         0.580\n",
      "3         7.50            4870            2351                         0.529\n",
      "4         8.00            4399             431                         0.544\n",
      "5        10.00            5342            1333                         0.571\n",
      "6         8.00            5319           11868                         0.451\n",
      "7         8.00            5126            2138                         0.553\n",
      "8         8.00            4447            8577                         0.529\n",
      "9         7.00            4512            8507                         0.552\n",
      "10        8.00            4391            5939                         0.530\n",
      "11        7.50            5126           14186                         0.525\n",
      "12        7.00            4817            6930                         0.574\n",
      "13        7.00            4207            6580                         0.545\n",
      "14        7.00            4332            8159                         0.608\n",
      "15        7.00            4318           10340                         0.586\n",
      "16        7.00            4206            8508                         0.572\n",
      "17        7.00            3718            4725                         0.540\n",
      "18        7.00            4716            5915                         0.724\n",
      "19        8.50            4341            6010                         0.677\n",
      "20        7.00            4593            7834                         0.663\n",
      "21        8.00            4983             602                         0.602\n",
      "22        9.00            4897            2449                         0.511\n",
      "23        9.00            4258            4686                         0.517\n",
      "24        8.50            4574            2619                         0.551\n",
      "25        9.00            3721            4746                         0.544\n",
      "26        8.00            3448            5399                         0.548\n",
      "27        7.50            3846            9061                         0.579\n",
      "28        8.00            4188            5975                         0.563\n",
      "29        9.00            3601            4650                         0.493\n",
      "30        7.00            3640            6905                         0.518\n",
      "31        7.00            3333            6594                         0.513\n",
      "32        8.00            3063            6524                         0.578\n",
      "33        7.50            3357            4121                         0.547\n",
      "34        8.00            3528            3495                         0.487\n",
      "35        6.58            3802            7834                         0.629\n",
      "36        5.00            4045           17782                         0.566\n",
      "37        7.00            3897            6385                         0.586\n",
      "38        8.50            3635            3274                         0.663\n",
      "39        7.00            4345            3905                         0.672\n",
      "40        7.00            4449            4639                         0.626\n",
      "41        7.00            3656            3985                         0.563\n",
      "42        7.00            4300            3635                         0.603\n",
      "43        7.00            3745            2611                         0.508\n",
      "44        6.00            5215            2302                         0.672\n",
      "45        9.00            4476            3942                         0.571\n",
      "46        7.00            4296            4083                         0.623\n",
      "47        7.00            5002            9794                         0.593\n",
      "0     541\n",
      "1     524\n",
      "2     561\n",
      "3     414\n",
      "4     410\n",
      "5     457\n",
      "6     344\n",
      "7     467\n",
      "8     464\n",
      "9     498\n",
      "10    580\n",
      "11    471\n",
      "12    525\n",
      "13    508\n",
      "14    566\n",
      "15    635\n",
      "16    603\n",
      "17    714\n",
      "18    865\n",
      "19    640\n",
      "20    649\n",
      "21    540\n",
      "22    464\n",
      "23    547\n",
      "24    460\n",
      "25    566\n",
      "26    577\n",
      "27    631\n",
      "28    574\n",
      "29    534\n",
      "30    571\n",
      "31    554\n",
      "32    577\n",
      "33    628\n",
      "34    487\n",
      "35    644\n",
      "36    640\n",
      "37    704\n",
      "38    648\n",
      "39    968\n",
      "40    587\n",
      "41    699\n",
      "42    632\n",
      "43    591\n",
      "44    782\n",
      "45    510\n",
      "46    610\n",
      "47    524\n",
      "Name: Petrol_Consumption, dtype: int64\n"
     ]
    }
   ],
   "source": [
    "x=petrol.iloc[:,0:4]\n",
    "y=petrol.iloc[:,4]\n",
    "print(x)\n",
    "print(y)"
   ]
  },
  {
   "cell_type": "code",
   "execution_count": 5,
   "id": "fa4dd27b",
   "metadata": {
    "execution": {
     "iopub.execute_input": "2022-01-21T07:30:39.747458Z",
     "iopub.status.busy": "2022-01-21T07:30:39.746734Z",
     "iopub.status.idle": "2022-01-21T07:30:40.784348Z",
     "shell.execute_reply": "2022-01-21T07:30:40.784891Z",
     "shell.execute_reply.started": "2022-01-21T07:29:37.173298Z"
    },
    "papermill": {
     "duration": 1.051958,
     "end_time": "2022-01-21T07:30:40.785089",
     "exception": false,
     "start_time": "2022-01-21T07:30:39.733131",
     "status": "completed"
    },
    "tags": []
   },
   "outputs": [],
   "source": [
    "from sklearn.model_selection import train_test_split\n",
    "\n",
    "#split data into train and test sets\n",
    "x_train, x_test, y_train, y_test = train_test_split(x, y, test_size=0.2, random_state=4)"
   ]
  },
  {
   "cell_type": "code",
   "execution_count": 6,
   "id": "7321b3c5",
   "metadata": {
    "execution": {
     "iopub.execute_input": "2022-01-21T07:30:40.805845Z",
     "iopub.status.busy": "2022-01-21T07:30:40.805204Z",
     "iopub.status.idle": "2022-01-21T07:30:41.167894Z",
     "shell.execute_reply": "2022-01-21T07:30:41.168401Z",
     "shell.execute_reply.started": "2022-01-21T07:29:50.053701Z"
    },
    "papermill": {
     "duration": 0.374758,
     "end_time": "2022-01-21T07:30:41.168598",
     "exception": false,
     "start_time": "2022-01-21T07:30:40.793840",
     "status": "completed"
    },
    "tags": []
   },
   "outputs": [
    {
     "data": {
      "text/plain": [
       "RandomForestRegressor()"
      ]
     },
     "execution_count": 6,
     "metadata": {},
     "output_type": "execute_result"
    }
   ],
   "source": [
    "from sklearn.ensemble import RandomForestRegressor\n",
    "\n",
    "# Create a Random Forest Regressor\n",
    "reg = RandomForestRegressor()\n",
    "\n",
    "# Train the model using the training sets \n",
    "reg.fit(x_train, y_train)"
   ]
  },
  {
   "cell_type": "code",
   "execution_count": 7,
   "id": "f5c4c7c3",
   "metadata": {
    "execution": {
     "iopub.execute_input": "2022-01-21T07:30:41.196718Z",
     "iopub.status.busy": "2022-01-21T07:30:41.195279Z",
     "iopub.status.idle": "2022-01-21T07:30:41.217306Z",
     "shell.execute_reply": "2022-01-21T07:30:41.216635Z",
     "shell.execute_reply.started": "2022-01-21T07:30:04.275554Z"
    },
    "papermill": {
     "duration": 0.039235,
     "end_time": "2022-01-21T07:30:41.217444",
     "exception": false,
     "start_time": "2022-01-21T07:30:41.178209",
     "status": "completed"
    },
    "tags": []
   },
   "outputs": [
    {
     "name": "stdout",
     "output_type": "stream",
     "text": [
      "[465.35 575.   628.95 619.51 595.06 626.57 670.9  644.84 474.27 524.83\n",
      " 543.59 561.6  712.67 533.65 647.49 593.99 578.12 586.34 672.53 626.96\n",
      " 515.64 588.54 559.93 674.26 643.84 524.   540.21 453.04 625.96 591.14\n",
      " 843.47 516.72 495.86 546.06 589.33 538.28 478.16 618.71]\n",
      "[481.46 576.41 481.38 527.11 547.56 595.49 465.61 569.29 781.38 758.24]\n"
     ]
    }
   ],
   "source": [
    "# Model prediction on train data\n",
    "y_pred = reg.predict(x_train)\n",
    "\n",
    "# Predicting Test data with the model\n",
    "y_test_pred = reg.predict(x_test)\n",
    "print(y_pred)\n",
    "print(y_test_pred)\n",
    "\n"
   ]
  },
  {
   "cell_type": "code",
   "execution_count": null,
   "id": "926cb6a8",
   "metadata": {
    "papermill": {
     "duration": 0.009014,
     "end_time": "2022-01-21T07:30:41.235795",
     "exception": false,
     "start_time": "2022-01-21T07:30:41.226781",
     "status": "completed"
    },
    "tags": []
   },
   "outputs": [],
   "source": []
  }
 ],
 "metadata": {
  "kernelspec": {
   "display_name": "Python 3",
   "language": "python",
   "name": "python3"
  },
  "language_info": {
   "codemirror_mode": {
    "name": "ipython",
    "version": 3
   },
   "file_extension": ".py",
   "mimetype": "text/x-python",
   "name": "python",
   "nbconvert_exporter": "python",
   "pygments_lexer": "ipython3",
   "version": "3.7.12"
  },
  "papermill": {
   "default_parameters": {},
   "duration": 12.161358,
   "end_time": "2022-01-21T07:30:41.955273",
   "environment_variables": {},
   "exception": null,
   "input_path": "__notebook__.ipynb",
   "output_path": "__notebook__.ipynb",
   "parameters": {},
   "start_time": "2022-01-21T07:30:29.793915",
   "version": "2.3.3"
  }
 },
 "nbformat": 4,
 "nbformat_minor": 5
}
